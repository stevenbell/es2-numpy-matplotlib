{
 "cells": [
  {
   "cell_type": "markdown",
   "metadata": {},
   "source": [
    "# Introduction to NumPy and Matplotlib\n",
    "\n",
    "This collection of notebooks is an introduction to NumPy and Matplotlib, intended for learners who are new to programming and just beginning with Python.  There are many great references for NumPy and Matplotlib, but most of them assume that the reader already has substantial experience with Python.  This material should be suitable for someone just a few weeks into a first course in programming.\n",
    "\n",
    "Released under CC-BY-SA.  If you're not familiar with [Creative Commons licensing](https://creativecommons.org/licenses/by-sa/4.0/), this basically means you're free to copy, modify, and remix this work however you'd like, as long as you give me credit and release your modifications under the same license.\n"
   ]
  },
  {
   "cell_type": "markdown",
   "metadata": {},
   "source": [
    "# Index\n",
    "<a href=\"first_plots.ipynb\">First plots with Matplotlib</a>"
   ]
  }
 ],
 "metadata": {
  "kernelspec": {
   "display_name": "Python 3",
   "language": "python",
   "name": "python3"
  },
  "language_info": {
   "codemirror_mode": {
    "name": "ipython",
    "version": 3
   },
   "file_extension": ".py",
   "mimetype": "text/x-python",
   "name": "python",
   "nbconvert_exporter": "python",
   "pygments_lexer": "ipython3",
   "version": "3.6.9"
  }
 },
 "nbformat": 4,
 "nbformat_minor": 4
}
