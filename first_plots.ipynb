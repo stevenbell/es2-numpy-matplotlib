{
  "nbformat": 4,
  "nbformat_minor": 0,
  "metadata": {
    "colab": {
      "name": "first_plots.ipynb",
      "provenance": [],
      "authorship_tag": "ABX9TyMDvjCmYrzsv75w6SMKXUtT"
    },
    "kernelspec": {
      "name": "python3",
      "display_name": "Python 3"
    },
    "language_info": {
      "name": "python"
    }
  },
  "cells": [
    {
      "cell_type": "markdown",
      "source": [
        "# Basic plots\n",
        "\n",
        "So far, you've learned how to use a `for` loop to run a piece of code repeatedly, and you've learned how to create sequences of items using a Python `list`.\n",
        "\n",
        "We can use these together to perform the function of a graphing calculator.  Suppose we want to plot the function $y=x^2$.  We iterate over some range of x-values, and for each value of `x`, we compute the corresponding `y`.\n",
        "If we append each newly-computed value to a list, then we end up with two lists of coordinates to plot."
      ],
      "metadata": {
        "id": "q7eper57cFBN"
      }
    },
    {
      "cell_type": "code",
      "execution_count": null,
      "metadata": {
        "colab": {
          "base_uri": "https://localhost:8080/"
        },
        "id": "WLcldFUJbLzt",
        "outputId": "427c3f2c-0fc7-47e8-d0b0-1ac6de94ae1a"
      },
      "outputs": [
        {
          "output_type": "stream",
          "name": "stdout",
          "text": [
            "[0, 1, 2, 3, 4, 5, 6, 7, 8, 9]\n",
            "[0, 1, 4, 9, 16, 25, 36, 49, 64, 81]\n"
          ]
        }
      ],
      "source": [
        "# Create some empty lists to store values\n",
        "x_list = []\n",
        "y_list = []\n",
        "\n",
        "# Step through a range of values for x\n",
        "for x in range(10):\n",
        "    # For each value of x, calculate the corresponding value of y\n",
        "    y = x ** 2\n",
        "\n",
        "    # Save the current values of x and y at the end of their respective lists\n",
        "    x_list.append(x)\n",
        "    y_list.append(y)\n",
        "\n",
        "print(x_list)\n",
        "print(y_list)"
      ]
    },
    {
      "cell_type": "markdown",
      "source": [
        "Once we have our lists of coordinates, we can plot them using the [Matplotlib](http://matplotlib.org) library:"
      ],
      "metadata": {
        "id": "9lEDh9iYctxc"
      }
    },
    {
      "cell_type": "code",
      "source": [
        "# First we import the \"matplotlib.pyplot\" library\n",
        "# Typing \"matplotlib.pyplot\" every time we wanted to use a library function\n",
        "# would be terribly tedious, so the `as plt` part lets us refer to the library\n",
        "# as `plt` instead.\n",
        "# It's standard practice to put this at the top of your code with any other\n",
        "# import statements.\n",
        "import matplotlib.pyplot as plt\n",
        "\n",
        "# Now we can actually make the plot, using the (aptly-named) `plot` function.\n",
        "# The first and second arguments are the x and y coordinates, respectively\n",
        "plt.plot(x_list, y_list)\n",
        "\n",
        "# Finally, we show the plot\n",
        "# Normally this will pop up a window with the plot, but in this notebook\n",
        "# it just displays the plot inline on the page.\n",
        "plt.show()"
      ],
      "metadata": {
        "colab": {
          "base_uri": "https://localhost:8080/",
          "height": 265
        },
        "id": "kLRiph_ecDME",
        "outputId": "587532cb-7b29-4b4a-a6d3-8b60f0e36a0f"
      },
      "execution_count": null,
      "outputs": [
        {
          "output_type": "display_data",
          "data": {
            "image/png": "[encoded data removed]",
            "text/plain": [
              "<Figure size 432x288 with 1 Axes>"
            ]
          },
          "metadata": {
            "needs_background": "light"
          }
        }
      ]
    },
    {
      "cell_type": "markdown",
      "source": [
        "<div class=\"alert alert-block alert-info\"><b>Explore:</b> Try plotting some other functions.  Adjust the range of x values, and experiment with more or fewer datapoints.</div>"
      ],
      "metadata": {
        "id": "Vi2cZSqrstLk"
      }
    },
    {
      "cell_type": "markdown",
      "source": [
        "# Plotting multiple curves\n",
        "\n",
        "Plots are often most useful when they display multiple sets of data together and invite comparison.\n",
        "\n",
        "We can show multiple curves together simply by specifying multiple sets of (x,y) coordinates in a single plot command:"
      ],
      "metadata": {
        "id": "YDQaT-Z6qdpr"
      }
    },
    {
      "cell_type": "code",
      "source": [
        "# Create a third set of data, called `z_list`\n",
        "z_list = []\n",
        "for x in range(10):\n",
        "    z_list.append(x ** 3)\n",
        "\n",
        "# The following command creates two plots:\n",
        "#   Y as a function of X, and \n",
        "#   Z as a function of X.\n",
        "plt.plot(x_list, y_list, x_list, z_list)\n",
        "plt.show()"
      ],
      "metadata": {
        "colab": {
          "base_uri": "https://localhost:8080/",
          "height": 265
        },
        "id": "4-aHzFZcq5LL",
        "outputId": "7f8b4975-7e2f-48c2-f479-4ec2d3ba956d"
      },
      "execution_count": null,
      "outputs": [
        {
          "output_type": "display_data",
          "data": {
            "image/png": "[encoded data removed]",
            "text/plain": [
              "<Figure size 432x288 with 1 Axes>"
            ]
          },
          "metadata": {
            "needs_background": "light"
          }
        }
      ]
    },
    {
      "cell_type": "markdown",
      "source": [
        "Another way to do this is to call the `plot` function multiple times.  Each time to `plot` adds another line to the figure:"
      ],
      "metadata": {
        "id": "Po12ofFAsE70"
      }
    },
    {
      "cell_type": "code",
      "source": [
        "plt.plot(x_list, y_list)\n",
        "plt.plot(x_list, z_list)\n",
        "plt.show()"
      ],
      "metadata": {
        "colab": {
          "base_uri": "https://localhost:8080/",
          "height": 265
        },
        "id": "ZqMsc_uZr0Nl",
        "outputId": "fc005f06-27ac-4845-8b7c-30545964acbd"
      },
      "execution_count": null,
      "outputs": [
        {
          "output_type": "display_data",
          "data": {
            "image/png": "[encoded data removed]",
            "text/plain": [
              "<Figure size 432x288 with 1 Axes>"
            ]
          },
          "metadata": {
            "needs_background": "light"
          }
        }
      ]
    },
    {
      "cell_type": "markdown",
      "source": [
        "<div class=\"alert alert-block alert-info\"><b>Explore:</b> What happens if you call <tt>plt.show()</tt> between the two <tt>plt.plot()</tt> commands?\n",
        "</div>"
      ],
      "metadata": {
        "id": "WwK8fc_rscH5"
      }
    },
    {
      "cell_type": "markdown",
      "source": [
        "# Annotating plots\n",
        "\n",
        "Hopefully you're already in the habit of labeling the axes of your plots.\n",
        "Needless to say, this is possible with Matplotlib, and actually quite easy:\n",
        "\n"
      ],
      "metadata": {
        "id": "AVCd2t-Jq5eu"
      }
    },
    {
      "cell_type": "code",
      "source": [
        "plt.xlabel(\"X value\")\n",
        "plt.ylabel(\"Y value\")\n",
        "plt.show()"
      ],
      "metadata": {
        "colab": {
          "base_uri": "https://localhost:8080/",
          "height": 283
        },
        "id": "hVQOE7qvwvXu",
        "outputId": "643c09a2-d994-46be-aa45-415d5804053c"
      },
      "execution_count": null,
      "outputs": [
        {
          "output_type": "display_data",
          "data": {
            "image/png": "[encoded data removed]",
            "text/plain": [
              "<Figure size 432x288 with 1 Axes>"
            ]
          },
          "metadata": {
            "needs_background": "light"
          }
        }
      ]
    },
    {
      "cell_type": "markdown",
      "source": [
        "Note that since there was no `plot()` command, there's no data in the figure, just nicely labeled axes.\n",
        "\n",
        "It is similarly easy to add a title above your figure using the `title()` command.\n",
        "\n",
        "Finally, you might want to add a legend to the plot to indicate which line corresponds to which data series.  The input to the `legend()` command is a `list` of text labels."
      ],
      "metadata": {
        "id": "d-5RsPUwzPq4"
      }
    },
    {
      "cell_type": "code",
      "source": [
        "plt.plot(x_list, y_list)\n",
        "plt.plot(x_list, z_list)\n",
        "\n",
        "plt.legend([\"X squared\", \"X cubed\"])\n",
        "plt.show()"
      ],
      "metadata": {
        "colab": {
          "base_uri": "https://localhost:8080/",
          "height": 265
        },
        "id": "RiRyBhIycpZH",
        "outputId": "a71bed7d-eada-44ac-f467-385ddd3374ea"
      },
      "execution_count": null,
      "outputs": [
        {
          "output_type": "display_data",
          "data": {
            "image/png": "[encoded data removed]",
            "text/plain": [
              "<Figure size 432x288 with 1 Axes>"
            ]
          },
          "metadata": {
            "needs_background": "light"
          }
        }
      ]
    },
    {
      "cell_type": "markdown",
      "source": [
        "<div class=\"alert alert-block alert-info\"><b>Explore:</b>\n",
        "What happens if the number of labels in the list doesn't match the number of lines on the plot?\n",
        "</div>\n",
        "\n",
        "If you're feeling super fancy, you can write $\\LaTeX$ in the axis labels or legend by putting it between dollar signs (`$`).  This is particularly useful for writing things with exponents or subscripts.\n",
        "\n",
        "There are many resources for learning LaTeX, so we won't go into that here.  However, a couple simple examples may be useful:\n",
        "\n",
        "`$x^2$` :  $x^2$\n",
        "\n",
        "`$t_{subscript}$` :  $t_{subscript}$\n",
        "\n",
        "`$m \\over sec$` :  $m \\over sec$"
      ],
      "metadata": {
        "id": "3dUY_6wF0kQ5"
      }
    },
    {
      "cell_type": "markdown",
      "source": [
        "# Specifying line styles\n",
        "\n",
        "Matplotlib picks nice colors by default (actually, they're borrowed from [Tableau](tableau.com)), but sometimes you might want to manually specify colors or styles for particular lines.\n",
        "The fastest way to do this is by specifying a string with some extra characters after the X and Y coordinates.  One set of characters specifies the line style (`-`, `--`, `-.`, `:`), another group specifies the color (`r`, `g`, `b`, `y`, `k`), and a third specifies the marker style (`o`, `*`, `.`).\n",
        "\n"
      ],
      "metadata": {
        "id": "NlQHWmdw2052"
      }
    },
    {
      "cell_type": "code",
      "source": [
        "plt.plot(x_list, y_list, \"-.r*\") # Draw a red dash-dot line with * markers at the datapoints\n",
        "plt.show()"
      ],
      "metadata": {
        "colab": {
          "base_uri": "https://localhost:8080/",
          "height": 265
        },
        "id": "-jGJ_3186hvs",
        "outputId": "eda7fc89-a936-42db-ef30-f57852395c5b"
      },
      "execution_count": null,
      "outputs": [
        {
          "output_type": "display_data",
          "data": {
            "image/png": "[encoded data removed]",
            "text/plain": [
              "<Figure size 432x288 with 1 Axes>"
            ]
          },
          "metadata": {
            "needs_background": "light"
          }
        }
      ]
    },
    {
      "cell_type": "markdown",
      "source": [
        "There are more (and better) ways to style your plots which we'll talk about later, but this is enough to get started.\n",
        "\n",
        "<div class=\"alert alert-block alert-info\"><b>Explore:</b>\n",
        "Play around with different styles.  What do each of the line styles do?  Can you specify colors other than those listed above?  What about <a href=\"https://matplotlib.org/stable/api/markers_api.html#module-matplotlib.markers\">other marker styles</a>?\n",
        "</div>"
      ],
      "metadata": {
        "id": "OHGueQoLCs41"
      }
    },
    {
      "cell_type": "markdown",
      "source": [
        "# Side note: background of Matplotlib\n",
        "The \"mat\" in \"Matplotlib\" is a reference to MATLAB.  Matplotlib [can do tons of things](http://matplotlib.org/stable/gallery), but one of its original goals was to provide a plotting interface that was simple and similar to MATLAB.  Essentially all of the commands in this document (and quite a few more that you'll learn later) are \"borrowed\" from MATLAB, and work in exactly the same way."
      ],
      "metadata": {
        "id": "nJ0M0-ki26r6"
      }
    }
  ]
}
